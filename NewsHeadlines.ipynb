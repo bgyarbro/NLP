{
 "cells": [
  {
   "cell_type": "code",
   "execution_count": 117,
   "metadata": {},
   "outputs": [],
   "source": [
    "from collections import Counter\n",
    "import itertools\n",
    "import string as string\n",
    "\n",
    "import nltk\n",
    "from nltk.corpus import stopwords\n",
    "import numpy as np\n",
    "import pandas as pd\n",
    "from scipy import sparse\n",
    "from scipy.sparse import linalg \n",
    "from sklearn.preprocessing import normalize\n",
    "from sklearn.metrics.pairwise import cosine_similarity"
   ]
  },
  {
   "cell_type": "code",
   "execution_count": 128,
   "metadata": {},
   "outputs": [
    {
     "data": {
      "text/plain": [
       "['In the beginning God created the heaven and the earth.',\n",
       " 'And the earth was without form, and void; and darkness was upon the face of the deep. And the Spirit of God moved upon the face of the waters.',\n",
       " 'And God said, Let there be light: and there was light.',\n",
       " 'And God saw the light, that it was good: and God divided the light from the darkness.',\n",
       " 'And God called the light Day, and the darkness he called Night. And the evening and the morning were the first day.']"
      ]
     },
     "execution_count": 128,
     "metadata": {},
     "output_type": "execute_result"
    }
   ],
   "source": [
    "df = []\n",
    "with open('./input/bible.txt') as f:\n",
    "    for line in f:\n",
    "        df.append(line[0:(len(line)-1)])\n",
    "df[0:5]"
   ]
  },
  {
   "cell_type": "code",
   "execution_count": 136,
   "metadata": {},
   "outputs": [],
   "source": [
    "headlines = df"
   ]
  },
  {
   "cell_type": "code",
   "execution_count": 130,
   "metadata": {},
   "outputs": [],
   "source": [
    "#df = pd.read_csv('./input/abcnews-date-text.csv')\n",
    "#df = pd.read_csv('./input/Amazon_Unlocked_Mobile.csv')\n",
    "#df.head()"
   ]
  },
  {
   "cell_type": "code",
   "execution_count": 67,
   "metadata": {},
   "outputs": [],
   "source": [
    "#df.headline_text\n",
    "#df.Reviews"
   ]
  },
  {
   "cell_type": "code",
   "execution_count": 137,
   "metadata": {},
   "outputs": [
    {
     "data": {
      "text/plain": [
       "'!\"#$%&\\'()*+,-./:;<=>?@[\\\\]^_`{|}~'"
      ]
     },
     "execution_count": 137,
     "metadata": {},
     "output_type": "execute_result"
    }
   ],
   "source": [
    "string.punctuation"
   ]
  },
  {
   "cell_type": "code",
   "execution_count": 138,
   "metadata": {},
   "outputs": [],
   "source": [
    "#headlines = df['headline_text'].tolist()"
   ]
  },
  {
   "cell_type": "code",
   "execution_count": 139,
   "metadata": {},
   "outputs": [],
   "source": [
    "headlines = [str(headline) for headline in headlines]"
   ]
  },
  {
   "cell_type": "code",
   "execution_count": 140,
   "metadata": {},
   "outputs": [],
   "source": [
    "table = str.maketrans('', '', string.punctuation)\n",
    "headlines = [headline.translate(table) for headline in headlines]"
   ]
  },
  {
   "cell_type": "code",
   "execution_count": 141,
   "metadata": {},
   "outputs": [],
   "source": [
    "headlines = [headline.lower() for headline in headlines]"
   ]
  },
  {
   "cell_type": "code",
   "execution_count": 142,
   "metadata": {},
   "outputs": [
    {
     "data": {
      "text/plain": [
       "['in the beginning god created the heaven and the earth',\n",
       " 'and the earth was without form and void and darkness was upon the face of the deep and the spirit of god moved upon the face of the waters',\n",
       " 'and god said let there be light and there was light',\n",
       " 'and god saw the light that it was good and god divided the light from the darkness',\n",
       " 'and god called the light day and the darkness he called night and the evening and the morning were the first day']"
      ]
     },
     "execution_count": 142,
     "metadata": {},
     "output_type": "execute_result"
    }
   ],
   "source": [
    "headlines[0:5]"
   ]
  },
  {
   "cell_type": "code",
   "execution_count": 143,
   "metadata": {},
   "outputs": [
    {
     "data": {
      "text/plain": [
       "[['beginning', 'god', 'created', 'heaven', 'earth'],\n",
       " ['earth',\n",
       "  'without',\n",
       "  'form',\n",
       "  'void',\n",
       "  'darkness',\n",
       "  'upon',\n",
       "  'face',\n",
       "  'deep',\n",
       "  'spirit',\n",
       "  'god',\n",
       "  'moved',\n",
       "  'upon',\n",
       "  'face',\n",
       "  'waters'],\n",
       " ['god', 'said', 'let', 'light', 'light'],\n",
       " ['god', 'saw', 'light', 'good', 'god', 'divided', 'light', 'darkness'],\n",
       " ['god',\n",
       "  'called',\n",
       "  'light',\n",
       "  'day',\n",
       "  'darkness',\n",
       "  'called',\n",
       "  'night',\n",
       "  'evening',\n",
       "  'morning',\n",
       "  'first',\n",
       "  'day'],\n",
       " ['god',\n",
       "  'said',\n",
       "  'let',\n",
       "  'firmament',\n",
       "  'midst',\n",
       "  'waters',\n",
       "  'let',\n",
       "  'divide',\n",
       "  'waters',\n",
       "  'waters'],\n",
       " ['god',\n",
       "  'made',\n",
       "  'firmament',\n",
       "  'divided',\n",
       "  'waters',\n",
       "  'firmament',\n",
       "  'waters',\n",
       "  'firmament'],\n",
       " ['god',\n",
       "  'called',\n",
       "  'firmament',\n",
       "  'heaven',\n",
       "  'evening',\n",
       "  'morning',\n",
       "  'second',\n",
       "  'day'],\n",
       " ['god',\n",
       "  'said',\n",
       "  'let',\n",
       "  'waters',\n",
       "  'heaven',\n",
       "  'gathered',\n",
       "  'together',\n",
       "  'unto',\n",
       "  'one',\n",
       "  'place',\n",
       "  'let',\n",
       "  'dry',\n",
       "  'land',\n",
       "  'appear'],\n",
       " ['god',\n",
       "  'called',\n",
       "  'dry',\n",
       "  'land',\n",
       "  'earth',\n",
       "  'gathering',\n",
       "  'together',\n",
       "  'waters',\n",
       "  'called',\n",
       "  'seas',\n",
       "  'god',\n",
       "  'saw',\n",
       "  'good'],\n",
       " ['god',\n",
       "  'said',\n",
       "  'let',\n",
       "  'earth',\n",
       "  'bring',\n",
       "  'forth',\n",
       "  'grass',\n",
       "  'herb',\n",
       "  'yielding',\n",
       "  'seed',\n",
       "  'fruit',\n",
       "  'tree',\n",
       "  'yielding',\n",
       "  'fruit',\n",
       "  'kind',\n",
       "  'whose',\n",
       "  'seed',\n",
       "  'upon',\n",
       "  'earth'],\n",
       " ['earth',\n",
       "  'brought',\n",
       "  'forth',\n",
       "  'grass',\n",
       "  'herb',\n",
       "  'yielding',\n",
       "  'seed',\n",
       "  'kind',\n",
       "  'tree',\n",
       "  'yielding',\n",
       "  'fruit',\n",
       "  'whose',\n",
       "  'seed',\n",
       "  'kind',\n",
       "  'god',\n",
       "  'saw',\n",
       "  'good'],\n",
       " ['evening', 'morning', 'third', 'day'],\n",
       " ['god',\n",
       "  'said',\n",
       "  'let',\n",
       "  'lights',\n",
       "  'firmament',\n",
       "  'heaven',\n",
       "  'divide',\n",
       "  'day',\n",
       "  'night',\n",
       "  'let',\n",
       "  'signs',\n",
       "  'seasons',\n",
       "  'days',\n",
       "  'years'],\n",
       " ['let', 'lights', 'firmament', 'heaven', 'give', 'light', 'upon', 'earth'],\n",
       " ['god',\n",
       "  'made',\n",
       "  'two',\n",
       "  'great',\n",
       "  'lights',\n",
       "  'greater',\n",
       "  'light',\n",
       "  'rule',\n",
       "  'day',\n",
       "  'lesser',\n",
       "  'light',\n",
       "  'rule',\n",
       "  'night',\n",
       "  'made',\n",
       "  'stars',\n",
       "  'also'],\n",
       " ['god', 'set', 'firmament', 'heaven', 'give', 'light', 'upon', 'earth'],\n",
       " ['rule', 'day', 'night', 'divide', 'light', 'darkness', 'god', 'saw', 'good'],\n",
       " ['evening', 'morning', 'fourth', 'day'],\n",
       " ['god',\n",
       "  'said',\n",
       "  'let',\n",
       "  'waters',\n",
       "  'bring',\n",
       "  'forth',\n",
       "  'abundantly',\n",
       "  'moving',\n",
       "  'creature',\n",
       "  'hath',\n",
       "  'life',\n",
       "  'fowl',\n",
       "  'may',\n",
       "  'fly',\n",
       "  'earth',\n",
       "  'open',\n",
       "  'firmament',\n",
       "  'heaven']]"
      ]
     },
     "execution_count": 143,
     "metadata": {},
     "output_type": "execute_result"
    }
   ],
   "source": [
    "#headlines = df['headline_text'].tolist()\n",
    "# remove stopwords\n",
    "stopwords_set = set(stopwords.words('english'))\n",
    "headlines = [\n",
    "    [tok for tok in headline.split() if tok not in stopwords_set] for headline in headlines\n",
    "]\n",
    "# remove single word headlines\n",
    "headlines = [hl for hl in headlines if len(hl) > 1]\n",
    "# show results\n",
    "headlines[0:20]"
   ]
  },
  {
   "cell_type": "code",
   "execution_count": 144,
   "metadata": {},
   "outputs": [
    {
     "name": "stdout",
     "output_type": "stream",
     "text": [
      "finished 0.00% of headlines\n",
      "done\n",
      "vocabulary size: 12603\n",
      "most common: [('shall', 9838), ('unto', 8997), ('lord', 7830), ('thou', 5474), ('thy', 4600), ('god', 4443), ('said', 3999), ('ye', 3982), ('thee', 3826), ('upon', 2748)]\n"
     ]
    }
   ],
   "source": [
    "tok2indx = dict()\n",
    "unigram_counts = Counter()\n",
    "for ii, headline in enumerate(headlines):\n",
    "    if ii % 200000 == 0:\n",
    "        print(f'finished {ii/len(headlines):.2%} of headlines')\n",
    "    for token in headline:\n",
    "        unigram_counts[token] += 1\n",
    "        if token not in tok2indx:\n",
    "            tok2indx[token] = len(tok2indx)\n",
    "indx2tok = {indx:tok for tok,indx in tok2indx.items()}\n",
    "print('done')\n",
    "print('vocabulary size: {}'.format(len(unigram_counts)))\n",
    "print('most common: {}'.format(unigram_counts.most_common(10)))\n",
    "vocab = len(unigram_counts)"
   ]
  },
  {
   "cell_type": "code",
   "execution_count": 145,
   "metadata": {},
   "outputs": [
    {
     "name": "stdout",
     "output_type": "stream",
     "text": [
      "finished 0.00% of headlines\n",
      "done\n",
      "number of skipgrams: 540478\n",
      "most common: [(('said', 'unto'), 1956), (('unto', 'said'), 1956), (('thou', 'shalt'), 1583), (('shalt', 'thou'), 1583), (('lord', 'god'), 1452), (('god', 'lord'), 1452), (('unto', 'lord'), 1391), (('lord', 'unto'), 1391), (('ye', 'shall'), 1034), (('shall', 'ye'), 1034)]\n"
     ]
    }
   ],
   "source": [
    "# note add dynammic window hyperparameter\n",
    "back_window = 2\n",
    "front_window = 2\n",
    "skipgram_counts = Counter()\n",
    "for iheadline, headline in enumerate(headlines):\n",
    "    for ifw, fw in enumerate(headline):\n",
    "        icw_min = max(0, ifw - back_window)\n",
    "        icw_max = min(len(headline) - 1, ifw + front_window)\n",
    "        icws = [ii for ii in range(icw_min, icw_max + 1) if ii != ifw]\n",
    "        for icw in icws:\n",
    "            skipgram = (headline[ifw], headline[icw])\n",
    "            skipgram_counts[skipgram] += 1    \n",
    "    if iheadline % 200000 == 0:\n",
    "        print(f'finished {iheadline/len(headlines):.2%} of headlines')\n",
    "        \n",
    "print('done')\n",
    "print('number of skipgrams: {}'.format(len(skipgram_counts)))\n",
    "print('most common: {}'.format(skipgram_counts.most_common(10)))"
   ]
  },
  {
   "cell_type": "code",
   "execution_count": 146,
   "metadata": {},
   "outputs": [
    {
     "name": "stdout",
     "output_type": "stream",
     "text": [
      "done\n"
     ]
    }
   ],
   "source": [
    "row_indxs = []\n",
    "col_indxs = []\n",
    "dat_values = []\n",
    "ii = 0\n",
    "for (tok1, tok2), sg_count in skipgram_counts.items():\n",
    "    ii += 1\n",
    "    if ii % 1000000 == 0:\n",
    "        print(f'finished {ii/len(skipgram_counts):.2%} of skipgrams')\n",
    "    tok1_indx = tok2indx[tok1]\n",
    "    tok2_indx = tok2indx[tok2]\n",
    "        \n",
    "    row_indxs.append(tok1_indx)\n",
    "    col_indxs.append(tok2_indx)\n",
    "    dat_values.append(sg_count)\n",
    "    \n",
    "wwcnt_mat = sparse.csr_matrix((dat_values, (row_indxs, col_indxs)))\n",
    "print('done')"
   ]
  },
  {
   "cell_type": "code",
   "execution_count": 147,
   "metadata": {},
   "outputs": [],
   "source": [
    "def ww_sim(word, mat, topn=10):\n",
    "    \"\"\"Calculate topn most similar words to word\"\"\"\n",
    "    indx = tok2indx[word]\n",
    "    if isinstance(mat, sparse.csr_matrix):\n",
    "        v1 = mat.getrow(indx)\n",
    "    else:\n",
    "        v1 = mat[indx:indx+1, :]\n",
    "    sims = cosine_similarity(mat, v1).flatten()\n",
    "    sindxs = np.argsort(-sims)\n",
    "    sim_word_scores = [(indx2tok[sindx], sims[sindx]) for sindx in sindxs[0:topn]]\n",
    "    return sim_word_scores"
   ]
  },
  {
   "cell_type": "code",
   "execution_count": 148,
   "metadata": {},
   "outputs": [
    {
     "data": {
      "text/plain": [
       "[('strike', 1.000000000000001),\n",
       " ('deliver', 0.49624930880813395),\n",
       " ('clap', 0.48922454899632684),\n",
       " ('choose', 0.4817866028565171),\n",
       " ('prosper', 0.46348003162962714),\n",
       " ('require', 0.4590792902106161),\n",
       " ('smite', 0.44914148007366783),\n",
       " ('kill', 0.44549583486070876),\n",
       " ('work', 0.4439734844358474),\n",
       " ('neither', 0.44144848287338806)]"
      ]
     },
     "execution_count": 148,
     "metadata": {},
     "output_type": "execute_result"
    }
   ],
   "source": [
    "ww_sim('strike', wwcnt_mat)\n",
    "# need to also take out ; when we remove stopwords"
   ]
  },
  {
   "cell_type": "code",
   "execution_count": 149,
   "metadata": {},
   "outputs": [],
   "source": [
    "wwcnt_norm_mat = normalize(wwcnt_mat, norm='l2', axis=1)"
   ]
  },
  {
   "cell_type": "code",
   "execution_count": 150,
   "metadata": {},
   "outputs": [
    {
     "data": {
      "text/plain": [
       "[('strike', 0.9999999999999983),\n",
       " ('deliver', 0.49624930880813284),\n",
       " ('clap', 0.4892245489963266),\n",
       " ('choose', 0.4817866028565176),\n",
       " ('prosper', 0.4634800316296269),\n",
       " ('require', 0.45907929021061594),\n",
       " ('smite', 0.449141480073669),\n",
       " ('kill', 0.445495834860707),\n",
       " ('work', 0.4439734844358497),\n",
       " ('neither', 0.4414484828733835)]"
      ]
     },
     "execution_count": 150,
     "metadata": {},
     "output_type": "execute_result"
    }
   ],
   "source": [
    "ww_sim('strike', wwcnt_norm_mat)"
   ]
  },
  {
   "cell_type": "code",
   "execution_count": 151,
   "metadata": {},
   "outputs": [
    {
     "name": "stdout",
     "output_type": "stream",
     "text": [
      "done\n"
     ]
    }
   ],
   "source": [
    "num_skipgrams = wwcnt_mat.sum()\n",
    "assert(sum(skipgram_counts.values())==num_skipgrams)\n",
    "\n",
    "# for creating sparce matrices\n",
    "row_indxs = []\n",
    "col_indxs = []\n",
    "\n",
    "pmi_dat_values = []\n",
    "ppmi_dat_values = []\n",
    "spmi_dat_values = []\n",
    "sppmi_dat_values = []\n",
    "\n",
    "# smoothing\n",
    "alpha = 0.75\n",
    "nca_denom = np.sum(np.array(wwcnt_mat.sum(axis=0)).flatten()**alpha)\n",
    "sum_over_words = np.array(wwcnt_mat.sum(axis=0)).flatten()\n",
    "sum_over_words_alpha = sum_over_words**alpha\n",
    "sum_over_contexts = np.array(wwcnt_mat.sum(axis=1)).flatten()\n",
    "\n",
    "ii = 0\n",
    "for (tok1, tok2), sg_count in skipgram_counts.items():\n",
    "    ii += 1\n",
    "    if ii % 1000000 == 0:\n",
    "        print(f'finished {ii/len(skipgram_counts):.2%} of skipgrams')\n",
    "    tok1_indx = tok2indx[tok1]\n",
    "    tok2_indx = tok2indx[tok2]\n",
    "    \n",
    "    nwc = sg_count\n",
    "    Pwc = nwc / num_skipgrams\n",
    "    nw = sum_over_contexts[tok1_indx]\n",
    "    Pw = nw / num_skipgrams\n",
    "    nc = sum_over_words[tok2_indx]\n",
    "    Pc = nc / num_skipgrams\n",
    "    \n",
    "    nca = sum_over_words_alpha[tok2_indx]\n",
    "    Pca = nca / nca_denom\n",
    "    \n",
    "    pmi = np.log2(Pwc/(Pw*Pc))\n",
    "    ppmi = max(pmi, 0)\n",
    "    \n",
    "    spmi = np.log2(Pwc/(Pw*Pca))\n",
    "    sppmi = max(spmi, 0)\n",
    "    \n",
    "    row_indxs.append(tok1_indx)\n",
    "    col_indxs.append(tok2_indx)\n",
    "    pmi_dat_values.append(pmi)\n",
    "    ppmi_dat_values.append(ppmi)\n",
    "    spmi_dat_values.append(spmi)\n",
    "    sppmi_dat_values.append(sppmi)\n",
    "        \n",
    "pmi_mat = sparse.csr_matrix((pmi_dat_values, (row_indxs, col_indxs)))\n",
    "ppmi_mat = sparse.csr_matrix((ppmi_dat_values, (row_indxs, col_indxs)))\n",
    "spmi_mat = sparse.csr_matrix((spmi_dat_values, (row_indxs, col_indxs)))\n",
    "sppmi_mat = sparse.csr_matrix((sppmi_dat_values, (row_indxs, col_indxs)))\n",
    "\n",
    "print('done')"
   ]
  },
  {
   "cell_type": "code",
   "execution_count": 152,
   "metadata": {},
   "outputs": [
    {
     "data": {
      "text/plain": [
       "[('strike', 1.0),\n",
       " ('debts', 0.232354501049311),\n",
       " ('lintel', 0.1870855293554879),\n",
       " ('executest', 0.17500283452820603),\n",
       " ('dip', 0.15606045136161018),\n",
       " ('liver', 0.15059712863024532),\n",
       " ('skull', 0.14822644213472094),\n",
       " ('scoff', 0.14572735139830556),\n",
       " ('basin', 0.13964797782398555),\n",
       " ('eared', 0.13774900713268992)]"
      ]
     },
     "execution_count": 152,
     "metadata": {},
     "output_type": "execute_result"
    }
   ],
   "source": [
    "ww_sim('strike', pmi_mat)"
   ]
  },
  {
   "cell_type": "code",
   "execution_count": 153,
   "metadata": {},
   "outputs": [
    {
     "ename": "KeyError",
     "evalue": "'phone'",
     "output_type": "error",
     "traceback": [
      "\u001b[0;31m---------------------------------------------------------------------------\u001b[0m",
      "\u001b[0;31mKeyError\u001b[0m                                  Traceback (most recent call last)",
      "\u001b[0;32m<ipython-input-153-195a9c3b3b8d>\u001b[0m in \u001b[0;36m<module>\u001b[0;34m()\u001b[0m\n\u001b[0;32m----> 1\u001b[0;31m \u001b[0mww_sim\u001b[0m\u001b[0;34m(\u001b[0m\u001b[0;34m'phone'\u001b[0m\u001b[0;34m,\u001b[0m \u001b[0mppmi_mat\u001b[0m\u001b[0;34m)\u001b[0m\u001b[0;34m\u001b[0m\u001b[0m\n\u001b[0m",
      "\u001b[0;32m<ipython-input-147-04e87e6c9b99>\u001b[0m in \u001b[0;36mww_sim\u001b[0;34m(word, mat, topn)\u001b[0m\n\u001b[1;32m      1\u001b[0m \u001b[0;32mdef\u001b[0m \u001b[0mww_sim\u001b[0m\u001b[0;34m(\u001b[0m\u001b[0mword\u001b[0m\u001b[0;34m,\u001b[0m \u001b[0mmat\u001b[0m\u001b[0;34m,\u001b[0m \u001b[0mtopn\u001b[0m\u001b[0;34m=\u001b[0m\u001b[0;36m10\u001b[0m\u001b[0;34m)\u001b[0m\u001b[0;34m:\u001b[0m\u001b[0;34m\u001b[0m\u001b[0m\n\u001b[1;32m      2\u001b[0m     \u001b[0;34m\"\"\"Calculate topn most similar words to word\"\"\"\u001b[0m\u001b[0;34m\u001b[0m\u001b[0m\n\u001b[0;32m----> 3\u001b[0;31m     \u001b[0mindx\u001b[0m \u001b[0;34m=\u001b[0m \u001b[0mtok2indx\u001b[0m\u001b[0;34m[\u001b[0m\u001b[0mword\u001b[0m\u001b[0;34m]\u001b[0m\u001b[0;34m\u001b[0m\u001b[0m\n\u001b[0m\u001b[1;32m      4\u001b[0m     \u001b[0;32mif\u001b[0m \u001b[0misinstance\u001b[0m\u001b[0;34m(\u001b[0m\u001b[0mmat\u001b[0m\u001b[0;34m,\u001b[0m \u001b[0msparse\u001b[0m\u001b[0;34m.\u001b[0m\u001b[0mcsr_matrix\u001b[0m\u001b[0;34m)\u001b[0m\u001b[0;34m:\u001b[0m\u001b[0;34m\u001b[0m\u001b[0m\n\u001b[1;32m      5\u001b[0m         \u001b[0mv1\u001b[0m \u001b[0;34m=\u001b[0m \u001b[0mmat\u001b[0m\u001b[0;34m.\u001b[0m\u001b[0mgetrow\u001b[0m\u001b[0;34m(\u001b[0m\u001b[0mindx\u001b[0m\u001b[0;34m)\u001b[0m\u001b[0;34m\u001b[0m\u001b[0m\n",
      "\u001b[0;31mKeyError\u001b[0m: 'phone'"
     ]
    }
   ],
   "source": [
    "ww_sim('phone', ppmi_mat)"
   ]
  },
  {
   "cell_type": "code",
   "execution_count": null,
   "metadata": {},
   "outputs": [],
   "source": [
    "ww_sim('phone', spmi_mat)"
   ]
  },
  {
   "cell_type": "code",
   "execution_count": null,
   "metadata": {},
   "outputs": [],
   "source": [
    "ww_sim('phone', sppmi_mat)"
   ]
  },
  {
   "cell_type": "code",
   "execution_count": 154,
   "metadata": {},
   "outputs": [],
   "source": [
    "pmi_use = ppmi_mat\n",
    "embedding_size = 50\n",
    "uu, ss, vv = linalg.svds(pmi_use, embedding_size)"
   ]
  },
  {
   "cell_type": "code",
   "execution_count": 155,
   "metadata": {},
   "outputs": [
    {
     "name": "stdout",
     "output_type": "stream",
     "text": [
      "vocab size: 12603\n",
      "embedding size: 50\n",
      "uu.shape: (12603, 50)\n",
      "ss.shape: (50,)\n",
      "vv.shape: (50, 12603)\n"
     ]
    }
   ],
   "source": [
    "print('vocab size: {}'.format(len(unigram_counts)))\n",
    "print('embedding size: {}'.format(embedding_size))\n",
    "print('uu.shape: {}'.format(uu.shape))\n",
    "print('ss.shape: {}'.format(ss.shape))\n",
    "print('vv.shape: {}'.format(vv.shape))"
   ]
  },
  {
   "cell_type": "code",
   "execution_count": 156,
   "metadata": {},
   "outputs": [],
   "source": [
    "unorm = uu / np.sqrt(np.sum(uu*uu, axis=1, keepdims=True))\n",
    "vnorm = vv / np.sqrt(np.sum(vv*vv, axis=0, keepdims=True))\n",
    "#word_vecs = unorm\n",
    "#word_vecs = vnorm.T\n",
    "word_vecs = uu + vv.T\n",
    "word_vecs_norm = word_vecs / np.sqrt(np.sum(word_vecs*word_vecs, axis=1, keepdims=True))"
   ]
  },
  {
   "cell_type": "code",
   "execution_count": 157,
   "metadata": {},
   "outputs": [],
   "source": [
    "def word_sim_report(word, sim_mat):\n",
    "    sim_word_scores = ww_sim(word, word_vecs)\n",
    "    for sim_word, sim_score in sim_word_scores:\n",
    "        print(sim_word, sim_score)\n",
    "        word_headlines = [hl for hl in headlines if sim_word in hl and word in hl][0:5]\n",
    "        for headline in word_headlines:\n",
    "            print(f'    {headline}')"
   ]
  },
  {
   "cell_type": "code",
   "execution_count": 159,
   "metadata": {},
   "outputs": [
    {
     "name": "stdout",
     "output_type": "stream",
     "text": [
      "smite 1.0000000000000002\n",
      "    ['lord', 'smelled', 'sweet', 'savor', 'lord', 'said', 'heart', 'curse', 'ground', 'mans', 'sake', 'imagination', 'mans', 'heart', 'evil', 'youth', 'neither', 'smite', 'every', 'thing', 'living', 'done']\n",
      "    ['said', 'esau', 'come', 'one', 'company', 'smite', 'company', 'left', 'shall', 'escape']\n",
      "    ['deliver', 'pray', 'thee', 'hand', 'brother', 'hand', 'esau', 'fear', 'lest', 'come', 'smite', 'mother', 'children']\n",
      "    ['stretch', 'hand', 'smite', 'egypt', 'wonders', 'midst', 'thereof', 'let', 'go']\n",
      "    ['thus', 'saith', 'lord', 'thou', 'shalt', 'know', 'lord', 'behold', 'smite', 'rod', 'mine', 'hand', 'upon', 'waters', 'river', 'shall', 'turned', 'blood']\n",
      "hindmost 0.7973554165569996\n",
      "    ['stay', 'ye', 'pursue', 'enemies', 'smite', 'hindmost', 'suffer', 'enter', 'cities', 'lord', 'god', 'hath', 'delivered', 'hand']\n",
      "sling 0.7117071799931199\n",
      "slang 0.6954615199123856\n",
      "enemies 0.6772225861012898\n",
      "    ['stay', 'ye', 'pursue', 'enemies', 'smite', 'hindmost', 'suffer', 'enter', 'cities', 'lord', 'god', 'hath', 'delivered', 'hand']\n",
      "    ['afterward', 'saith', 'lord', 'deliver', 'zedekiah', 'king', 'judah', 'servants', 'people', 'left', 'city', 'pestilence', 'sword', 'famine', 'hand', 'nebuchadrezzar', 'king', 'babylon', 'hand', 'enemies', 'hand', 'seek', 'life', 'shall', 'smite', 'edge', 'sword', 'shall', 'spare', 'neither', 'pity', 'mercy']\n",
      "mortally 0.665406540859275\n",
      "    ['man', 'hate', 'neighbor', 'lie', 'wait', 'rise', 'smite', 'mortally', 'die', 'fleeth', 'one', 'cities']\n",
      "anvil 0.6650566252078606\n",
      "smote 0.6612157237772232\n",
      "    ['enmity', 'smite', 'hand', 'die', 'smote', 'shall', 'surely', 'put', 'death', 'murderer', 'revenger', 'blood', 'shall', 'slay', 'murderer', 'meeteth']\n",
      "    ['saul', 'sought', 'smite', 'david', 'even', 'wall', 'javelin', 'slipped', 'away', 'sauls', 'presence', 'smote', 'javelin', 'wall', 'david', 'fled', 'escaped', 'night']\n",
      "    ['found', 'another', 'man', 'said', 'smite', 'pray', 'thee', 'man', 'smote', 'smiting', 'wounded']\n",
      "    ['came', 'elisha', 'prayed', 'unto', 'lord', 'said', 'smite', 'people', 'pray', 'thee', 'blindness', 'smote', 'blindness', 'according', 'word', 'elisha']\n",
      "    ['said', 'take', 'arrows', 'took', 'said', 'unto', 'king', 'israel', 'smite', 'upon', 'ground', 'smote', 'thrice', 'stayed']\n",
      "deaths 0.6528248657832911\n",
      "fight 0.6479714006499864\n"
     ]
    }
   ],
   "source": [
    "word = 'smite'\n",
    "word_sim_report(word, word_vecs)"
   ]
  },
  {
   "cell_type": "code",
   "execution_count": 160,
   "metadata": {},
   "outputs": [
    {
     "name": "stdout",
     "output_type": "stream",
     "text": [
      "new 0.9999999999999999\n",
      "    ['arose', 'new', 'king', 'egypt', 'knew', 'joseph']\n",
      "    ['even', 'unto', 'morrow', 'seventh', 'sabbath', 'shall', 'ye', 'number', 'fifty', 'days', 'ye', 'shall', 'offer', 'new', 'meat', 'offering', 'unto', 'lord']\n",
      "    ['ye', 'shall', 'eat', 'old', 'store', 'bring', 'forth', 'old', 'new']\n",
      "    ['lord', 'make', 'new', 'thing', 'earth', 'open', 'mouth', 'swallow', 'appertain', 'unto', 'go', 'quick', 'pit', 'ye', 'shall', 'understand', 'men', 'provoked', 'lord']\n",
      "    ['also', 'day', 'firstfruits', 'ye', 'bring', 'new', 'meat', 'offering', 'unto', 'lord', 'weeks', 'ye', 'shall', 'holy', 'convocation', 'ye', 'shall', 'servile', 'work']\n",
      "agreeth 0.7210477089001187\n",
      "    ['spake', 'also', 'parable', 'unto', 'man', 'putteth', 'piece', 'new', 'garment', 'upon', 'old', 'otherwise', 'new', 'maketh', 'rent', 'piece', 'taken', 'new', 'agreeth', 'old']\n",
      "drinkers 0.7139402147718026\n",
      "    ['awake', 'ye', 'drunkards', 'weep', 'howl', 'ye', 'drinkers', 'wine', 'new', 'wine', 'cut', 'mouth']\n",
      "moons 0.6882709329559048\n",
      "    ['offer', 'burnt', 'sacrifices', 'unto', 'lord', 'sabbaths', 'new', 'moons', 'set', 'feasts', 'number', 'according', 'order', 'commanded', 'unto', 'continually', 'lord']\n",
      "    ['behold', 'build', 'house', 'name', 'lord', 'god', 'dedicate', 'burn', 'sweet', 'incense', 'continual', 'shewbread', 'burnt', 'offerings', 'morning', 'evening', 'sabbaths', 'new', 'moons', 'solemn', 'feasts', 'lord', 'god', 'ordinance', 'ever', 'israel']\n",
      "    ['even', 'certain', 'rate', 'every', 'day', 'offering', 'according', 'commandment', 'moses', 'sabbaths', 'new', 'moons', 'solemn', 'feasts', 'three', 'times', 'year', 'even', 'feast', 'unleavened', 'bread', 'feast', 'weeks', 'feast', 'tabernacles']\n",
      "    ['appointed', 'also', 'kings', 'portion', 'substance', 'burnt', 'offerings', 'wit', 'morning', 'evening', 'burnt', 'offerings', 'burnt', 'offerings', 'sabbaths', 'new', 'moons', 'set', 'feasts', 'written', 'law', 'lord']\n",
      "    ['afterward', 'offered', 'continual', 'burnt', 'offering', 'new', 'moons', 'set', 'feasts', 'lord', 'consecrated', 'every', 'one', 'willingly', 'offered', 'freewill', 'offering', 'unto', 'lord']\n",
      "vent 0.6574191256819005\n",
      "    ['behold', 'belly', 'wine', 'hath', 'vent', 'ready', 'burst', 'like', 'new', 'bottles']\n",
      "tomb 0.6527682363619327\n",
      "    ['laid', 'new', 'tomb', 'hewn', 'rock', 'rolled', 'great', 'stone', 'door', 'sepulchre', 'departed']\n",
      "sustained 0.6372963005124876\n",
      "bottles 0.6334044552584654\n",
      "    ['bottles', 'wine', 'filled', 'new', 'behold', 'rent', 'garments', 'shoes', 'become', 'old', 'reason', 'long', 'journey']\n",
      "    ['behold', 'belly', 'wine', 'hath', 'vent', 'ready', 'burst', 'like', 'new', 'bottles']\n",
      "    ['neither', 'men', 'put', 'new', 'wine', 'old', 'bottles', 'else', 'bottles', 'break', 'wine', 'runneth', 'bottles', 'perish', 'put', 'new', 'wine', 'new', 'bottles', 'preserved']\n",
      "    ['man', 'putteth', 'new', 'wine', 'old', 'bottles', 'else', 'new', 'wine', 'doth', 'burst', 'bottles', 'wine', 'spilled', 'bottles', 'marred', 'new', 'wine', 'must', 'put', 'new', 'bottles']\n",
      "    ['man', 'putteth', 'new', 'wine', 'old', 'bottles', 'else', 'new', 'wine', 'burst', 'bottles', 'spilled', 'bottles', 'shall', 'perish']\n",
      "presses 0.6198791498936955\n",
      "    ['shall', 'thy', 'barns', 'filled', 'plenty', 'thy', 'presses', 'shall', 'burst', 'new', 'wine']\n",
      "inflame 0.6142140840212323\n"
     ]
    }
   ],
   "source": [
    "word = 'new'\n",
    "word_sim_report(word, word_vecs)"
   ]
  },
  {
   "cell_type": "code",
   "execution_count": 163,
   "metadata": {},
   "outputs": [
    {
     "name": "stdout",
     "output_type": "stream",
     "text": [
      "jesus 1.0\n",
      "    ['book', 'generation', 'jesus', 'christ', 'son', 'david', 'son', 'abraham']\n",
      "    ['jacob', 'begat', 'joseph', 'husband', 'mary', 'born', 'jesus', 'called', 'christ']\n",
      "    ['birth', 'jesus', 'christ', 'wise', 'mother', 'mary', 'espoused', 'joseph', 'came', 'together', 'found', 'child', 'holy', 'ghost']\n",
      "    ['shall', 'bring', 'forth', 'son', 'thou', 'shalt', 'call', 'name', 'jesus', 'shall', 'save', 'people', 'sins']\n",
      "    ['knew', 'till', 'brought', 'forth', 'firstborn', 'son', 'called', 'name', 'jesus']\n",
      "dined 0.9312223866333107\n",
      "    ['dined', 'jesus', 'saith', 'simon', 'peter', 'simon', 'son', 'jonas', 'lovest', 'thou', 'saith', 'unto', 'yea', 'lord', 'thou', 'knowest', 'love', 'thee', 'saith', 'unto', 'feed', 'lambs']\n",
      "bishops 0.8788212804443252\n",
      "    ['paul', 'timotheus', 'servants', 'jesus', 'christ', 'saints', 'christ', 'jesus', 'philippi', 'bishops', 'deacons']\n",
      "preached 0.814202595573131\n",
      "    ['jesus', 'answering', 'said', 'unto', 'go', 'way', 'tell', 'john', 'things', 'ye', 'seen', 'heard', 'blind', 'see', 'lame', 'walk', 'lepers', 'cleansed', 'deaf', 'hear', 'dead', 'raised', 'poor', 'gospel', 'preached']\n",
      "    ['shall', 'send', 'jesus', 'christ', 'preached', 'unto']\n",
      "    ['grieved', 'taught', 'people', 'preached', 'jesus', 'resurrection', 'dead']\n",
      "    ['philip', 'opened', 'mouth', 'began', 'scripture', 'preached', 'unto', 'jesus']\n",
      "    ['barnabas', 'took', 'brought', 'apostles', 'declared', 'unto', 'seen', 'lord', 'way', 'spoken', 'preached', 'boldly', 'damascus', 'name', 'jesus']\n",
      "preaching 0.8074481293563855\n",
      "    ['jesus', 'went', 'galilee', 'teaching', 'synagogues', 'preaching', 'gospel', 'kingdom', 'healing', 'manner', 'sickness', 'manner', 'disease', 'among', 'people']\n",
      "    ['jesus', 'went', 'cities', 'villages', 'teaching', 'synagogues', 'preaching', 'gospel', 'kingdom', 'healing', 'every', 'sickness', 'every', 'disease', 'among', 'people']\n",
      "    ['john', 'put', 'prison', 'jesus', 'came', 'galilee', 'preaching', 'gospel', 'kingdom', 'god']\n",
      "    ['believed', 'philip', 'preaching', 'things', 'concerning', 'kingdom', 'god', 'name', 'jesus', 'christ', 'baptized', 'men', 'women']\n",
      "    ['word', 'god', 'sent', 'unto', 'children', 'israel', 'preaching', 'peace', 'jesus', 'christ', 'lord']\n",
      "jude 0.8060140130915755\n",
      "    ['jude', 'servant', 'jesus', 'christ', 'brother', 'james', 'sanctified', 'god', 'father', 'preserved', 'jesus', 'christ', 'called']\n",
      "john 0.7971096976926682\n",
      "    ['cometh', 'jesus', 'galilee', 'jordan', 'unto', 'john', 'baptized']\n",
      "    ['jesus', 'heard', 'john', 'cast', 'prison', 'departed', 'galilee']\n",
      "    ['jesus', 'answered', 'said', 'unto', 'go', 'shew', 'john', 'things', 'ye', 'hear', 'see']\n",
      "    ['departed', 'jesus', 'began', 'say', 'unto', 'multitudes', 'concerning', 'john', 'went', 'ye', 'wilderness', 'see', 'reed', 'shaken', 'wind']\n",
      "    ['six', 'days', 'jesus', 'taketh', 'peter', 'james', 'john', 'brother', 'bringeth', 'high', 'mountain', 'apart']\n",
      "craved 0.7915615001743528\n",
      "    ['joseph', 'arimathaea', 'honourable', 'counsellor', 'also', 'waited', 'kingdom', 'god', 'came', 'went', 'boldly', 'unto', 'pilate', 'craved', 'body', 'jesus']\n",
      "begged 0.780405972799061\n",
      "    ['went', 'pilate', 'begged', 'body', 'jesus', 'pilate', 'commanded', 'body', 'delivered']\n",
      "    ['man', 'went', 'unto', 'pilate', 'begged', 'body', 'jesus']\n",
      "acceptation 0.7680945227158105\n",
      "    ['faithful', 'saying', 'worthy', 'acceptation', 'christ', 'jesus', 'came', 'world', 'save', 'sinners', 'chief']\n"
     ]
    }
   ],
   "source": [
    "word = 'jesus'\n",
    "word_sim_report(word, word_vecs)"
   ]
  },
  {
   "cell_type": "code",
   "execution_count": 165,
   "metadata": {},
   "outputs": [
    {
     "name": "stdout",
     "output_type": "stream",
     "text": [
      "ass 1.0\n",
      "    ['abraham', 'rose', 'early', 'morning', 'saddled', 'ass', 'took', 'two', 'young', 'men', 'isaac', 'son', 'clave', 'wood', 'burnt', 'offering', 'rose', 'went', 'unto', 'place', 'god', 'told']\n",
      "    ['abraham', 'said', 'unto', 'young', 'men', 'abide', 'ye', 'ass', 'lad', 'go', 'yonder', 'worship', 'come']\n",
      "    ['one', 'opened', 'sack', 'give', 'ass', 'provender', 'inn', 'espied', 'money', 'behold', 'sacks', 'mouth']\n",
      "    ['rent', 'clothes', 'laded', 'every', 'man', 'ass', 'returned', 'city']\n",
      "    ['issachar', 'strong', 'ass', 'couching', 'two', 'burdens']\n",
      "ox 0.7423583803655471\n",
      "    ['thou', 'shalt', 'covet', 'thy', 'neighbors', 'house', 'thou', 'shalt', 'covet', 'thy', 'neighbors', 'wife', 'manservant', 'maidservant', 'ox', 'ass', 'thing', 'thy', 'neighbors']\n",
      "    ['man', 'shall', 'open', 'pit', 'man', 'shall', 'dig', 'pit', 'cover', 'ox', 'ass', 'fall', 'therein']\n",
      "    ['theft', 'certainly', 'found', 'hand', 'alive', 'whether', 'ox', 'ass', 'sheep', 'shall', 'restore', 'double']\n",
      "    ['manner', 'trespass', 'whether', 'ox', 'ass', 'sheep', 'raiment', 'manner', 'lost', 'thing', 'another', 'challengeth', 'cause', 'parties', 'shall', 'come', 'judges', 'judges', 'shall', 'condemn', 'shall', 'pay', 'double', 'unto', 'neighbor']\n",
      "    ['man', 'deliver', 'unto', 'neighbor', 'ass', 'ox', 'sheep', 'beast', 'keep', 'die', 'hurt', 'driven', 'away', 'man', 'seeing']\n",
      "fodder 0.7356274671520211\n",
      "    ['doth', 'wild', 'ass', 'bray', 'hath', 'grass', 'loweth', 'ox', 'fodder']\n",
      "stall 0.731000878973788\n",
      "    ['lord', 'answered', 'said', 'thou', 'hypocrite', 'doth', 'one', 'sabbath', 'loose', 'ox', 'ass', 'stall', 'lead', 'away', 'watering']\n",
      "chamois 0.7232568359413641\n",
      "camel 0.7202229433870718\n",
      "    ['go', 'smite', 'amalek', 'utterly', 'destroy', 'spare', 'slay', 'man', 'woman', 'infant', 'suckling', 'ox', 'sheep', 'camel', 'ass']\n",
      "    ['shall', 'plague', 'horse', 'mule', 'camel', 'ass', 'beasts', 'shall', 'tents', 'plague']\n",
      "tied 0.7146107639326857\n",
      "    ['saying', 'unto', 'go', 'village', 'straightway', 'ye', 'shall', 'find', 'ass', 'tied', 'colt', 'loose', 'bring', 'unto']\n",
      "tiller 0.7105658195827129\n",
      "pygarg 0.6918877643251317\n",
      "leaveth 0.6916135235235121\n"
     ]
    }
   ],
   "source": [
    "word = 'ass'\n",
    "word_sim_report(word, word_vecs)"
   ]
  },
  {
   "cell_type": "code",
   "execution_count": 166,
   "metadata": {},
   "outputs": [
    {
     "name": "stdout",
     "output_type": "stream",
     "text": [
      "flesh 1.0\n",
      "    ['lord', 'god', 'caused', 'deep', 'sleep', 'fall', 'upon', 'adam', 'slept', 'took', 'one', 'ribs', 'closed', 'flesh', 'instead', 'thereof']\n",
      "    ['adam', 'said', 'bone', 'bones', 'flesh', 'flesh', 'shall', 'called', 'woman', 'taken', 'man']\n",
      "    ['therefore', 'shall', 'man', 'leave', 'father', 'mother', 'shall', 'cleave', 'unto', 'wife', 'shall', 'one', 'flesh']\n",
      "    ['lord', 'said', 'spirit', 'shall', 'always', 'strive', 'man', 'also', 'flesh', 'yet', 'days', 'shall', 'hundred', 'twenty', 'years']\n",
      "    ['god', 'looked', 'upon', 'earth', 'behold', 'corrupt', 'flesh', 'corrupted', 'way', 'upon', 'earth']\n",
      "flakes 0.9412778021994261\n",
      "    ['flakes', 'flesh', 'joined', 'together', 'firm', 'cannot', 'moved']\n",
      "fresher 0.9316456734612926\n",
      "    ['flesh', 'shall', 'fresher', 'childs', 'shall', 'return', 'days', 'youth']\n",
      "nourisheth 0.9183523426485174\n",
      "    ['man', 'ever', 'yet', 'hated', 'flesh', 'nourisheth', 'cherisheth', 'even', 'lord', 'church']\n",
      "abhorring 0.8924743192012475\n",
      "    ['shall', 'go', 'forth', 'look', 'upon', 'carcases', 'men', 'transgressed', 'worm', 'shall', 'die', 'neither', 'shall', 'fire', 'quenched', 'shall', 'abhorring', 'unto', 'flesh']\n",
      "raw 0.8802950191229022\n",
      "    ['priest', 'shall', 'see', 'behold', 'rising', 'white', 'skin', 'turned', 'hair', 'white', 'quick', 'raw', 'flesh', 'rising']\n",
      "    ['raw', 'flesh', 'appeareth', 'shall', 'unclean']\n",
      "    ['priest', 'shall', 'see', 'raw', 'flesh', 'pronounce', 'unclean', 'raw', 'flesh', 'unclean', 'leprosy']\n",
      "    ['raw', 'flesh', 'turn', 'changed', 'unto', 'white', 'shall', 'come', 'unto', 'priest']\n",
      "    ['also', 'burnt', 'fat', 'priests', 'servant', 'came', 'said', 'man', 'sacrificed', 'give', 'flesh', 'roast', 'priest', 'sodden', 'flesh', 'thee', 'raw']\n",
      "wrestle 0.8712168978618138\n",
      "    ['wrestle', 'flesh', 'blood', 'principalities', 'powers', 'rulers', 'darkness', 'world', 'spiritual', 'wickedness', 'high', 'places']\n",
      "eyeservice 0.8601589272926288\n",
      "    ['servants', 'obey', 'things', 'masters', 'according', 'flesh', 'eyeservice', 'menpleasers', 'singleness', 'heart', 'fearing', 'god']\n",
      "constrain 0.8473082897294522\n",
      "    ['many', 'desire', 'make', 'fair', 'shew', 'flesh', 'constrain', 'circumcised', 'lest', 'suffer', 'persecution', 'cross', 'christ']\n",
      "affections 0.8249908149055785\n",
      "    ['christs', 'crucified', 'flesh', 'affections', 'lusts']\n"
     ]
    }
   ],
   "source": [
    "word = 'flesh'\n",
    "word_sim_report(word, word_vecs)"
   ]
  },
  {
   "cell_type": "code",
   "execution_count": 168,
   "metadata": {},
   "outputs": [
    {
     "name": "stdout",
     "output_type": "stream",
     "text": [
      "love 1.0\n",
      "    ['make', 'savory', 'meat', 'love', 'bring', 'may', 'eat', 'soul', 'may', 'bless', 'thee', 'die']\n",
      "    ['jacob', 'served', 'seven', 'years', 'rachel', 'seemed', 'unto', 'days', 'love']\n",
      "    ['leah', 'conceived', 'bare', 'son', 'called', 'name', 'reuben', 'said', 'surely', 'lord', 'hath', 'looked', 'upon', 'affliction', 'therefore', 'husband', 'love']\n",
      "    ['showing', 'mercy', 'unto', 'thousands', 'love', 'keep', 'commandments']\n",
      "    ['servant', 'shall', 'plainly', 'say', 'love', 'master', 'wife', 'children', 'go', 'free']\n",
      "marketplaces 0.9622851200592034\n",
      "    ['said', 'unto', 'doctrine', 'beware', 'scribes', 'love', 'go', 'long', 'clothing', 'love', 'salutations', 'marketplaces']\n",
      "humbleness 0.7924078096024338\n",
      "salutations 0.7899960588877815\n",
      "    ['said', 'unto', 'doctrine', 'beware', 'scribes', 'love', 'go', 'long', 'clothing', 'love', 'salutations', 'marketplaces']\n",
      "simplicity 0.7783299818745112\n",
      "    ['long', 'ye', 'simple', 'ones', 'ye', 'love', 'simplicity', 'scorners', 'delight', 'scorning', 'fools', 'hate', 'knowledge']\n",
      "brotherly 0.7715841982985909\n",
      "    ['kindly', 'affectioned', 'one', 'another', 'brotherly', 'love', 'honour', 'preferring', 'one', 'another']\n",
      "    ['touching', 'brotherly', 'love', 'ye', 'need', 'write', 'unto', 'ye', 'taught', 'god', 'love', 'one', 'another']\n",
      "    ['let', 'brotherly', 'love', 'continue']\n",
      "unfeigned 0.7615299339996292\n",
      "    ['pureness', 'knowledge', 'longsuffering', 'kindness', 'holy', 'ghost', 'love', 'unfeigned']\n",
      "    ['seeing', 'ye', 'purified', 'souls', 'obeying', 'truth', 'spirit', 'unto', 'unfeigned', 'love', 'brethren', 'see', 'ye', 'love', 'one', 'another', 'pure', 'heart', 'fervently']\n",
      "diligence 0.7595709039913703\n",
      "    ['therefore', 'ye', 'abound', 'every', 'thing', 'faith', 'utterance', 'knowledge', 'diligence', 'love', 'us', 'see', 'ye', 'abound', 'grace', 'also']\n",
      "meekness 0.7554539708203358\n",
      "    ['ye', 'shall', 'come', 'unto', 'rod', 'love', 'spirit', 'meekness']\n",
      "    ['lowliness', 'meekness', 'longsuffering', 'forbearing', 'one', 'another', 'love']\n",
      "    ['thou', 'man', 'god', 'flee', 'things', 'follow', 'righteousness', 'godliness', 'faith', 'love', 'patience', 'meekness']\n",
      "commendeth 0.7191120316236544\n",
      "    ['god', 'commendeth', 'love', 'toward', 'us', 'yet', 'sinners', 'christ', 'died', 'us']\n"
     ]
    }
   ],
   "source": [
    "word = 'love'\n",
    "word_sim_report(word, word_vecs)"
   ]
  },
  {
   "cell_type": "code",
   "execution_count": 169,
   "metadata": {},
   "outputs": [],
   "source": [
    "def wvec_sim(vec, mat, topn=10):\n",
    "    \"\"\"Calculate topn most similar words to vec\"\"\"\n",
    "    v1 = vec\n",
    "    sims = cosine_similarity(mat, v1).flatten()\n",
    "    sindxs = np.argsort(-sims)\n",
    "    sim_word_scores = [(indx2tok[sindx], sims[sindx]) for sindx in sindxs[0:topn]]\n",
    "    return sim_word_scores"
   ]
  },
  {
   "cell_type": "code",
   "execution_count": 102,
   "metadata": {},
   "outputs": [],
   "source": [
    "#print(vv[0].reshape(-1,1))"
   ]
  },
  {
   "cell_type": "code",
   "execution_count": 103,
   "metadata": {},
   "outputs": [],
   "source": [
    "#wvec_sim(sparse.csr_matrix((vv[0], (np.zeros(107509), np.arange(107509))), shape=(1, 107509)), ppmi_mat)"
   ]
  },
  {
   "cell_type": "code",
   "execution_count": 170,
   "metadata": {},
   "outputs": [
    {
     "name": "stdout",
     "output_type": "stream",
     "text": [
      "0\n",
      "112.89398184681296\n",
      "[('away', 0.13802234723613468), ('transgressions', 0.11904132637184726), ('name', 0.11874176745826918), ('sitnah', 0.11783123371309137), ('allonbachuth', 0.11783123371309137)]\n",
      "1\n",
      "113.17387697156882\n",
      "[('soul', 0.14352007287453905), ('flesh', 0.12391247599057555), ('thirsteth', 0.11610856359729392), ('fowl', 0.11464664980496493), ('kind', 0.1136912344643238)]\n",
      "2\n",
      "113.61194960098817\n",
      "[('wine', 0.10974497042865963), ('barley', 0.10791234588189536), ('jedidiah', 0.10431826362658897), ('benammi', 0.10372773872345109), ('mine', 0.10302347993610811)]\n",
      "3\n",
      "113.9808722131935\n",
      "[('sons', 0.5299288120574069), ('tabeal', 0.18265690456420555), ('rephah', 0.17716877207863496), ('stripling', 0.15685147159857055), ('stools', 0.14182055621240175)]\n",
      "4\n",
      "114.6510067606655\n",
      "[('spices', 0.15157664425618628), ('pure', 0.12963042048379234), ('myrrh', 0.1278366610047832), ('duke', 0.11509151694801835), ('frankincense', 0.11355873292905734)]\n",
      "5\n",
      "114.80653045769505\n",
      "[('pitched', 0.14423780744058012), ('thereof', 0.1385908162624944), ('etham', 0.121905494206253), ('shapher', 0.12159720795027126), ('encamped', 0.12085101337405274)]\n",
      "6\n",
      "115.10827769799636\n",
      "[('also', 0.16230348344432682), ('cattle', 0.1575627794764832), ('second', 0.13232568576293133), ('heart', 0.12909196183180083), ('tehaphnehes', 0.12803449272000467)]\n",
      "7\n",
      "115.17203028946008\n",
      "[('submitting', 0.15477712354103318), ('one', 0.1485314804056803), ('another', 0.13319437876449614), ('condemnest', 0.12807657876885636), ('loveth', 0.1274385059496564)]\n",
      "8\n",
      "115.6980153569081\n",
      "[('also', 0.17427051400409949), ('policy', 0.14215607722290377), ('disobeyed', 0.13803885350403922), ('mouth', 0.13526335843745452), ('rephah', 0.12447082987671917)]\n",
      "9\n",
      "116.09630266452022\n",
      "[('skin', 0.15197147948124703), ('flesh', 0.14523202354503942), ('deeper', 0.13741569448042507), ('spot', 0.1337364481859604), ('submitting', 0.13305945002828712)]\n",
      "10\n",
      "116.40536136309024\n",
      "[('instruments', 0.1536379427947274), ('cymbals', 0.14073863758620508), ('sound', 0.1266890036845126), ('psalteries', 0.12632920799347408), ('trumpets', 0.12326458536038654)]\n",
      "11\n",
      "117.45229792819858\n",
      "[('sheep', 0.12497147166326998), ('statutes', 0.12419523087534223), ('way', 0.1218575248288837), ('rephah', 0.11601169356374615), ('commandments', 0.11459977117416634)]\n",
      "12\n",
      "117.53970439838223\n",
      "[('pitched', 0.19479592597033993), ('encamped', 0.16219808192254054), ('almondiblathaim', 0.15374755908366922), ('shapher', 0.14976082834107768), ('hazeroth', 0.14160507275196574)]\n",
      "13\n",
      "118.42766109928914\n",
      "[('great', 0.13243588759891242), ('one', 0.12313569471501025), ('every', 0.12048651881557304), ('submitting', 0.10836928619162944), ('money', 0.10834431336028426)]\n",
      "14\n",
      "118.46308785566256\n",
      "[('went', 0.1811217675295048), ('came', 0.17716612479189772), ('took', 0.17017692741661486), ('ailed', 0.16797164747247037), ('called', 0.16431256415326595)]\n",
      "15\n",
      "118.88083513282564\n",
      "[('begat', 0.15628028048585027), ('jeiel', 0.14252130655806916), ('sorek', 0.12686954724885613), ('zechariah', 0.12463369367291544), ('maaseiah', 0.12425023109973349)]\n",
      "16\n",
      "119.32286783941814\n",
      "[('suburbs', 0.151125576524943), ('upon', 0.14059078762282476), ('cornfloor', 0.1206190469305398), ('also', 0.1139543839902528), ('shade', 0.10830569785809799)]\n",
      "17\n",
      "120.10831836118561\n",
      "[('earth', 0.15985612035086005), ('creeping', 0.13138528994058551), ('creepeth', 0.12193850095411203), ('sound', 0.11544970360660403), ('ground', 0.11365245770856917)]\n",
      "18\n",
      "120.9739527013598\n",
      "[('offering', 0.13913608841664632), ('oil', 0.1317685599684228), ('groves', 0.119979787946308), ('sacrifice', 0.11817585095125216), ('images', 0.11721962633415342)]\n",
      "19\n",
      "121.55028215693896\n",
      "[('begat', 0.24671099134334878), ('shaharaim', 0.20341765091224961), ('jehozadak', 0.1495378229462586), ('madian', 0.13870671171390428), ('rachab', 0.1371678613755498)]\n",
      "20\n",
      "123.28595052647104\n",
      "[('month', 0.18015990535146756), ('children', 0.16256372259734367), ('pitched', 0.15586823670935732), ('encamped', 0.14597968243785317), ('rephidim', 0.1241342581496212)]\n",
      "21\n",
      "123.85463279932561\n",
      "[('begat', 0.19689416302787585), ('shaharaim', 0.17066034509160394), ('shineth', 0.12004835503350104), ('fire', 0.11143013340826351), ('havothjair', 0.11085716451326638)]\n",
      "22\n",
      "125.48956021089866\n",
      "[('sun', 0.13903662126410862), ('silver', 0.12289678332637854), ('heaven', 0.12008135822845226), ('gold', 0.11430815826922741), ('planets', 0.11105116742758055)]\n",
      "23\n",
      "125.95206597331352\n",
      "[('tribe', 0.16599186377695774), ('suburbs', 0.12402239826006524), ('head', 0.1209886472662339), ('benjamin', 0.11995604718610481), ('golan', 0.11969446806069203)]\n",
      "24\n",
      "127.62690522165309\n",
      "[('silver', 0.15937543698550324), ('gold', 0.15500132965812266), ('bashanhavothjair', 0.14602495209073324), ('galilee', 0.14041171833838326), ('simon', 0.13820297311090773)]\n",
      "25\n",
      "127.92745191109812\n",
      "[('hand', 0.14230721312694833), ('upon', 0.1351484685449998), ('reignest', 0.11456443733530755), ('paddle', 0.1140346838215747), ('shade', 0.11175850249717542)]\n",
      "26\n",
      "129.29892671398724\n",
      "[('begat', 0.16563877436856478), ('sheep', 0.1415018047920337), ('pitched', 0.14067038461159834), ('tent', 0.12708128514778122), ('removed', 0.12513360865346695)]\n",
      "27\n",
      "129.9737844316472\n",
      "[('sons', 0.1583716990531457), ('one', 0.14613103580936326), ('fire', 0.12532272903701447), ('philistines', 0.12522044098960938), ('burnt', 0.12115395271252902)]\n",
      "28\n",
      "131.37674895567432\n",
      "[('tribe', 0.17196546734270154), ('one', 0.16266587481660133), ('voice', 0.14844308345942336), ('issachar', 0.1446390838816234), ('son', 0.14391389703447696)]\n",
      "29\n",
      "132.72931641166466\n",
      "[('family', 0.23827313904256484), ('shechemites', 0.1467986663525076), ('merarites', 0.14175574781699804), ('jachinites', 0.14143614249864273), ('shaulites', 0.13921257256112124)]\n",
      "30\n",
      "133.18715150585234\n",
      "[('white', 0.17003601479328023), ('skin', 0.16417970997204265), ('linen', 0.1609945088409497), ('one', 0.16065822327348112), ('every', 0.15581828875236772)]\n",
      "31\n",
      "136.1289413217192\n",
      "[('family', 0.4140338994273911), ('naamites', 0.25370980099860274), ('merarites', 0.24263541862922222), ('carmites', 0.24035400300201687), ('shechemites', 0.23977475476526278)]\n",
      "32\n",
      "137.29270870724176\n",
      "[('family', 0.22247028171454597), ('groves', 0.14186505207982444), ('merarites', 0.13378355033557246), ('altars', 0.12882253873253208), ('shechemites', 0.12827566519786593)]\n",
      "33\n",
      "137.6346934674443\n",
      "[('rephah', 0.39301551184511807), ('tabeal', 0.3799930169797279), ('stripling', 0.34832045751146695), ('habaziniah', 0.34316163220774176), ('heli', 0.29817180800643245)]\n",
      "34\n",
      "138.78576455805734\n",
      "[('thou', 0.23509236063700156), ('ailed', 0.1938453956615512), ('thee', 0.17990839358069882), ('trimmest', 0.1696779434268724), ('withdrawest', 0.1696779434268724)]\n",
      "35\n",
      "139.88633945750783\n",
      "[('voice', 0.17069855604461007), ('singers', 0.15870770160272188), ('words', 0.15016792337245333), ('sing', 0.1435579886700576), ('lips', 0.13408515588474057)]\n",
      "36\n",
      "143.37360509449232\n",
      "[('year', 0.1803716512068152), ('cloud', 0.17240702325445245), ('month', 0.1721465731171812), ('seventh', 0.17041139034736283), ('day', 0.1617439549699869)]\n",
      "37\n",
      "145.10831668134009\n",
      "[('trees', 0.2038938564364312), ('tree', 0.162880139883318), ('fruit', 0.1488565895269743), ('lebanon', 0.14545657915793103), ('planted', 0.14355616512345484)]\n",
      "38\n",
      "146.14430665750749\n",
      "[('son', 0.16707294498923117), ('side', 0.15327915562642253), ('offering', 0.14413623472465767), ('court', 0.13833015147965624), ('gate', 0.13471141915647564)]\n",
      "39\n",
      "153.69101169540977\n",
      "[('hundred', 0.2834541223066547), ('years', 0.2742996341011341), ('lived', 0.24589324764887596), ('enos', 0.2393071432984742), ('cainan', 0.2331884357943358)]\n",
      "40\n",
      "156.59716783346985\n",
      "[('gold', 0.18347994828525757), ('brass', 0.1537051215974664), ('sockets', 0.15007182395509988), ('hand', 0.14677087276679132), ('silver', 0.1431370459956795)]\n",
      "41\n",
      "156.93298880080692\n",
      "[('year', 0.2610147071482669), ('reign', 0.20654574887533883), ('king', 0.18586735407221378), ('month', 0.17326720611464672), ('jehoiakim', 0.1683520575956948)]\n",
      "42\n",
      "162.8442212197912\n",
      "[('son', 0.215796400451903), ('zechariah', 0.167266354386711), ('maaseiah', 0.16115143797119383), ('court', 0.15937765505819854), ('shemaiah', 0.15639637146102617)]\n",
      "43\n",
      "172.76284315844595\n",
      "[('took', 0.17010871324985286), ('clothes', 0.16664446140541567), ('mantle', 0.1573358005376001), ('said', 0.15203863136520848), ('arose', 0.1517352125379858)]\n",
      "44\n",
      "178.12807455261077\n",
      "[('son', 0.24325232197598837), ('sons', 0.17505858649255787), ('like', 0.14729486164966502), ('tabeal', 0.14177829012662216), ('stripling', 0.13882499090408265)]\n",
      "45\n",
      "191.43358220451157\n",
      "[('gold', 0.2606700740710432), ('silver', 0.22938596417680435), ('hundred', 0.2140238827053995), ('sons', 0.2123580551726982), ('sockets', 0.2070404426090132)]\n",
      "46\n",
      "199.38925899606284\n",
      "[('also', 0.2315387098941124), ('shall', 0.22245888573988787), ('man', 0.20839404387992302), ('ye', 0.20341420473602026), ('one', 0.1964659213054509)]\n",
      "47\n",
      "222.44549782134848\n",
      "[('cubits', 0.23742430689549687), ('thereof', 0.23091891109981147), ('gold', 0.20835883635725624), ('pillars', 0.2024956860465629), ('round', 0.2018964950294779)]\n",
      "48\n",
      "245.10001976293756\n",
      "[('knowledge', 0.17052537785972977), ('righteous', 0.1692495504858578), ('righteousness', 0.16618975032250716), ('heart', 0.1624450566309185), ('wicked', 0.16190630211678556)]\n",
      "49\n",
      "495.3068687886399\n",
      "[('hadashah', 1.2951934408052594e-19), ('cabbon', 1.161285002419685e-19), ('adalia', 1.0515974497559357e-19), ('hallohesh', 8.54981485576391e-20), ('poratha', 7.728217643316214e-20)]\n"
     ]
    }
   ],
   "source": [
    "for i in range(0,50):\n",
    "    print(i)\n",
    "    print(ss[i])\n",
    "    print(wvec_sim(sparse.csr_matrix((vv[i], (np.zeros(vocab), np.arange(vocab))), shape=(1, vocab)), ppmi_mat)[0:5])"
   ]
  },
  {
   "cell_type": "code",
   "execution_count": 171,
   "metadata": {},
   "outputs": [
    {
     "name": "stdout",
     "output_type": "stream",
     "text": [
      "[('king', 0.23973073143063667), ('year', 0.22835372167577694), ('shall', 0.20487485495060667), ('day', 0.20353414291768587), ('people', 0.19301579131180807), ('judah', 0.18536744882330478), ('israel', 0.17745001778779065), ('ye', 0.16740570176171218), ('made', 0.15657492957672628), ('land', 0.15657377290061053)]\n"
     ]
    }
   ],
   "source": [
    "# 46 charged jailed\n",
    "# 44 interview\n",
    "# 43 govt\n",
    "# 41 scientists\n",
    "#vv[47] + vv[39]\n",
    "print(wvec_sim(sparse.csr_matrix((vv[41]+vv[46], (np.zeros(vocab), np.arange(vocab))), shape=(1, vocab)), ppmi_mat)[0:10])"
   ]
  },
  {
   "cell_type": "code",
   "execution_count": 172,
   "metadata": {},
   "outputs": [
    {
     "name": "stdout",
     "output_type": "stream",
     "text": [
      "[('away', 0.13802234723613468), ('transgressions', 0.11904132637184726), ('name', 0.11874176745826918), ('sitnah', 0.11783123371309137), ('allonbachuth', 0.11783123371309137), ('jehovahnissi', 0.11783123371309137), ('blot', 0.11382038161742744), ('sins', 0.11197737155823592), ('jedidiah', 0.11121299958621031), ('barjesus', 0.10915346779424842)]\n",
      "[('soul', 0.14352007287453905), ('flesh', 0.12391247599057555), ('thirsteth', 0.11610856359729392), ('fowl', 0.11464664980496493), ('kind', 0.1136912344643238), ('redeemeth', 0.11187564194015587), ('thy', 0.11109513876194402), ('one', 0.10697432862240851), ('longeth', 0.10512872166189936), ('winged', 0.101997304572593)]\n",
      "[('wine', 0.10974497042865963), ('barley', 0.10791234588189536), ('jedidiah', 0.10431826362658897), ('benammi', 0.10372773872345109), ('mine', 0.10302347993610811), ('jehovahnissi', 0.09870311847734207), ('allonbachuth', 0.09870311847734207), ('sitnah', 0.09870311847734207), ('injustice', 0.09792061317942782), ('moabites', 0.09580285869387736)]\n",
      "[('sons', 0.5299288120574069), ('tabeal', 0.18265690456420555), ('rephah', 0.17716877207863496), ('stripling', 0.15685147159857055), ('stools', 0.14182055621240175), ('heli', 0.1397547880841964), ('ethni', 0.13910440993159504), ('jeaterai', 0.13910440993159504), ('jose', 0.1361834985912969), ('forsomuch', 0.1341432157185942)]\n"
     ]
    }
   ],
   "source": [
    "print(wvec_sim(sparse.csr_matrix((vv[0], (np.zeros(vocab), np.arange(vocab))), shape=(1, vocab)), ppmi_mat)[0:10])\n",
    "print(wvec_sim(sparse.csr_matrix((vv[1], (np.zeros(vocab), np.arange(vocab))), shape=(1, vocab)), ppmi_mat)[0:10])\n",
    "print(wvec_sim(sparse.csr_matrix((vv[2], (np.zeros(vocab), np.arange(vocab))), shape=(1, vocab)), ppmi_mat)[0:10])\n",
    "print(wvec_sim(sparse.csr_matrix((vv[3], (np.zeros(vocab), np.arange(vocab))), shape=(1, vocab)), ppmi_mat)[0:10])"
   ]
  },
  {
   "cell_type": "code",
   "execution_count": 173,
   "metadata": {},
   "outputs": [],
   "source": [
    "def ww_sim_print(word, mat, topn=10):\n",
    "    \"\"\"Calculate topn most similar words to word\"\"\"\n",
    "    indx = tok2indx[word]\n",
    "    print(indx)\n",
    "    if isinstance(mat, sparse.csr_matrix):\n",
    "        v1 = mat.getrow(indx)\n",
    "    else:\n",
    "        v1 = mat[indx:indx+1, :]\n",
    "    print(type(v1))\n",
    "    print(v1)\n",
    "    print(v1.toarray().shape)\n",
    "    sims = cosine_similarity(mat, v1).flatten()\n",
    "    sindxs = np.argsort(-sims)\n",
    "    sim_word_scores = [(indx2tok[sindx], sims[sindx]) for sindx in sindxs[0:topn]]\n",
    "    return 0 #sim_word_scores"
   ]
  },
  {
   "cell_type": "code",
   "execution_count": 174,
   "metadata": {},
   "outputs": [
    {
     "data": {
      "text/plain": [
       "array([112.89398185, 113.17387697, 113.6119496 , 113.98087221,\n",
       "       114.65100676, 114.80653046, 115.1082777 , 115.17203029,\n",
       "       115.69801536, 116.09630266, 116.40536136, 117.45229793,\n",
       "       117.5397044 , 118.4276611 , 118.46308786, 118.88083513,\n",
       "       119.32286784, 120.10831836, 120.9739527 , 121.55028216,\n",
       "       123.28595053, 123.8546328 , 125.48956021, 125.95206597,\n",
       "       127.62690522, 127.92745191, 129.29892671, 129.97378443,\n",
       "       131.37674896, 132.72931641, 133.18715151, 136.12894132,\n",
       "       137.29270871, 137.63469347, 138.78576456, 139.88633946,\n",
       "       143.37360509, 145.10831668, 146.14430666, 153.6910117 ,\n",
       "       156.59716783, 156.9329888 , 162.84422122, 172.76284316,\n",
       "       178.12807455, 191.4335822 , 199.389259  , 222.44549782,\n",
       "       245.10001976, 495.30686879])"
      ]
     },
     "execution_count": 174,
     "metadata": {},
     "output_type": "execute_result"
    }
   ],
   "source": [
    "ss"
   ]
  },
  {
   "cell_type": "code",
   "execution_count": 175,
   "metadata": {},
   "outputs": [],
   "source": [
    "def ww_sim(word, mat, topn=10):\n",
    "    \"\"\"Calculate topn most similar words to word\"\"\"\n",
    "    indx = tok2indx[word]\n",
    "    if isinstance(mat, sparse.csr_matrix):\n",
    "        v1 = mat.getrow(indx)\n",
    "    else:\n",
    "        v1 = mat[indx:indx+1, :]\n",
    "    sims = cosine_similarity(mat, v1).flatten()\n",
    "    sindxs = np.argsort(-sims)\n",
    "    sim_word_scores = [(indx2tok[sindx], sims[sindx]) for sindx in sindxs[0:topn]]\n",
    "    return sim_word_scores"
   ]
  },
  {
   "cell_type": "code",
   "execution_count": 176,
   "metadata": {},
   "outputs": [
    {
     "data": {
      "text/plain": [
       "<1x12603 sparse matrix of type '<class 'numpy.float64'>'\n",
       "\twith 352 stored elements in Compressed Sparse Row format>"
      ]
     },
     "execution_count": 176,
     "metadata": {},
     "output_type": "execute_result"
    }
   ],
   "source": [
    "word = 'war'\n",
    "indx = tok2indx[word]\n",
    "v1 = ppmi_mat.getrow(indx)\n",
    "v1"
   ]
  },
  {
   "cell_type": "code",
   "execution_count": 199,
   "metadata": {},
   "outputs": [],
   "source": [
    "# word addition\n",
    "def word_addition(word1, word2, mat, add = 1):\n",
    "    indx1 = tok2indx[word1]\n",
    "    v1 = ppmi_mat.getrow(indx1)\n",
    "    indx2 = tok2indx[word2]\n",
    "    v2 = ppmi_mat.getrow(indx2)\n",
    "    #indx3 = tok2indx[word3]\n",
    "    #v3 = ppmi_mat.getrow(indx3)\n",
    "    return(wvec_sim(v1 + add * v2, mat))"
   ]
  },
  {
   "cell_type": "code",
   "execution_count": 206,
   "metadata": {},
   "outputs": [
    {
     "name": "stdout",
     "output_type": "stream",
     "text": [
      "[('tongues', 0.7265415350416136), ('speaking', 0.7013944639027624), ('helps', 0.14783131770679636), ('flatter', 0.13623083829470997), ('speak', 0.12886818917904816), ('unadvisedly', 0.1288591325405886), ('boldly', 0.11825321779421354), ('disperse', 0.11640121750482305), ('gnawed', 0.11634868768153211), ('praying', 0.11446022936815468)]\n"
     ]
    }
   ],
   "source": [
    "print(word_addition('speaking', 'tongues', ppmi_mat, 1))"
   ]
  }
 ],
 "metadata": {
  "kernelspec": {
   "display_name": "Python 3",
   "language": "python",
   "name": "python3"
  },
  "language_info": {
   "codemirror_mode": {
    "name": "ipython",
    "version": 3
   },
   "file_extension": ".py",
   "mimetype": "text/x-python",
   "name": "python",
   "nbconvert_exporter": "python",
   "pygments_lexer": "ipython3",
   "version": "3.6.5"
  }
 },
 "nbformat": 4,
 "nbformat_minor": 2
}
